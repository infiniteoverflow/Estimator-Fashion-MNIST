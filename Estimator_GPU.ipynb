{
  "nbformat": 4,
  "nbformat_minor": 0,
  "metadata": {
    "colab": {
      "name": "Estimator-GPU.ipynb",
      "provenance": [],
      "authorship_tag": "ABX9TyPzHKtvuK5K9nY+IKSegGj7",
      "include_colab_link": true
    },
    "kernelspec": {
      "name": "python3",
      "display_name": "Python 3"
    },
    "accelerator": "GPU"
  },
  "cells": [
    {
      "cell_type": "markdown",
      "metadata": {
        "id": "view-in-github",
        "colab_type": "text"
      },
      "source": [
        "<a href=\"https://colab.research.google.com/github/infiniteoverflow/Estimator-Fashion-MNIST/blob/master/Estimator_GPU.ipynb\" target=\"_parent\"><img src=\"https://colab.research.google.com/assets/colab-badge.svg\" alt=\"Open In Colab\"/></a>"
      ]
    },
    {
      "cell_type": "code",
      "metadata": {
        "id": "ZP-HqTTavXxI",
        "colab_type": "code",
        "colab": {
          "base_uri": "https://localhost:8080/",
          "height": 35
        },
        "outputId": "d65f0341-5134-4685-d89e-aefbd90a3677"
      },
      "source": [
        "import tensorflow as tf\n",
        "import numpy as np\n",
        "print(tf.version)"
      ],
      "execution_count": 20,
      "outputs": [
        {
          "output_type": "stream",
          "text": [
            "<module 'tensorflow._api.v2.version' from '/usr/local/lib/python3.6/dist-packages/tensorflow/_api/v2/version/__init__.py'>\n"
          ],
          "name": "stdout"
        }
      ]
    },
    {
      "cell_type": "code",
      "metadata": {
        "id": "pJybUqOxvjG4",
        "colab_type": "code",
        "colab": {}
      },
      "source": [
        "LABEL_DIMENSIONS = 10"
      ],
      "execution_count": 21,
      "outputs": []
    },
    {
      "cell_type": "code",
      "metadata": {
        "id": "47IsSqNkvkvF",
        "colab_type": "code",
        "colab": {}
      },
      "source": [
        "(train_images,train_labels) , (test_images,test_labels) = tf.keras.datasets.fashion_mnist.load_data()"
      ],
      "execution_count": 22,
      "outputs": []
    },
    {
      "cell_type": "code",
      "metadata": {
        "id": "i0Gd8dfevmma",
        "colab_type": "code",
        "colab": {
          "base_uri": "https://localhost:8080/",
          "height": 52
        },
        "outputId": "96ba3195-f3b3-410e-a4cc-7b30b5d87d5d"
      },
      "source": [
        "\n",
        "print('train_images : {} train_labels : {}'.format(train_images.shape,train_labels.shape))\n",
        "print('test_images : {} test_labels : {}'.format(test_images.shape,test_labels.shape))"
      ],
      "execution_count": 23,
      "outputs": [
        {
          "output_type": "stream",
          "text": [
            "train_images : (60000, 28, 28) train_labels : (60000,)\n",
            "test_images : (10000, 28, 28) test_labels : (10000,)\n"
          ],
          "name": "stdout"
        }
      ]
    },
    {
      "cell_type": "code",
      "metadata": {
        "id": "2r1GXvXPvp-d",
        "colab_type": "code",
        "colab": {}
      },
      "source": [
        "TRAINING_SIZE = len(train_images)\n",
        "TEST_SIZE = len(test_images)"
      ],
      "execution_count": 24,
      "outputs": []
    },
    {
      "cell_type": "code",
      "metadata": {
        "id": "8rnfSbEuvt41",
        "colab_type": "code",
        "colab": {
          "base_uri": "https://localhost:8080/",
          "height": 35
        },
        "outputId": "c7c91b17-c88b-4752-ebcb-42a3365fd3d3"
      },
      "source": [
        "TRAINING_SIZE , TEST_SIZE"
      ],
      "execution_count": 25,
      "outputs": [
        {
          "output_type": "execute_result",
          "data": {
            "text/plain": [
              "(60000, 10000)"
            ]
          },
          "metadata": {
            "tags": []
          },
          "execution_count": 25
        }
      ]
    },
    {
      "cell_type": "code",
      "metadata": {
        "id": "U3GTLl1KvvoN",
        "colab_type": "code",
        "colab": {}
      },
      "source": [
        "train_images = np.asarray(train_images,dtype=np.float32)/255\n",
        "test_images = np.asarray(test_images,dtype=np.float32)/255"
      ],
      "execution_count": 26,
      "outputs": []
    },
    {
      "cell_type": "code",
      "metadata": {
        "id": "yFLR29Iwvx8k",
        "colab_type": "code",
        "colab": {}
      },
      "source": [
        "train_images = train_images.reshape((TRAINING_SIZE,28,28,1))\n",
        "test_images = test_images.reshape((TEST_SIZE,28,28,1))"
      ],
      "execution_count": 27,
      "outputs": []
    },
    {
      "cell_type": "code",
      "metadata": {
        "id": "KhdH5Sfvvz5M",
        "colab_type": "code",
        "colab": {}
      },
      "source": [
        "train_labels = tf.keras.utils.to_categorical(train_labels,num_classes=LABEL_DIMENSIONS)\n",
        "test_labels = tf.keras.utils.to_categorical(test_labels,num_classes=LABEL_DIMENSIONS)"
      ],
      "execution_count": 28,
      "outputs": []
    },
    {
      "cell_type": "code",
      "metadata": {
        "id": "v7M3QIOPv15E",
        "colab_type": "code",
        "colab": {}
      },
      "source": [
        "train_labels = train_labels.astype(np.float32)\n",
        "test_labels = test_labels.astype(np.float32)"
      ],
      "execution_count": 29,
      "outputs": []
    },
    {
      "cell_type": "markdown",
      "metadata": {
        "id": "j5nliR_Yv731",
        "colab_type": "text"
      },
      "source": [
        "**Building a convolution model with `tf.keras` functional API**"
      ]
    },
    {
      "cell_type": "code",
      "metadata": {
        "id": "vDd4fnTbv7Ix",
        "colab_type": "code",
        "colab": {}
      },
      "source": [
        "inputs = tf.keras.Input(shape=(28,28,1))\n",
        "\n",
        "x = tf.keras.layers.Conv2D(filters=32,kernel_size=(3,3),activation='relu')(inputs)\n",
        "x = tf.keras.layers.MaxPooling2D(pool_size=(2,2),strides=2)(x)\n",
        "\n",
        "x = tf.keras.layers.Conv2D(filters=64,kernel_size=(3,3),activation='relu')(x)\n",
        "x = tf.keras.layers.MaxPooling2D(pool_size=(2,2),strides=2)(x)\n",
        "\n",
        "x = tf.keras.layers.Conv2D(filters=64,kernel_size=(3,3),activation='relu')(x)\n",
        "\n",
        "\n",
        "x = tf.keras.layers.Flatten()(x)\n",
        "\n",
        "x = tf.keras.layers.Dense(64,activation='relu')(x)\n",
        "\n",
        "predictions = tf.keras.layers.Dense(LABEL_DIMENSIONS,activation='softmax')(x)"
      ],
      "execution_count": 30,
      "outputs": []
    },
    {
      "cell_type": "code",
      "metadata": {
        "id": "lSGr-GJFv3vU",
        "colab_type": "code",
        "colab": {
          "base_uri": "https://localhost:8080/",
          "height": 468
        },
        "outputId": "0e3a3554-2017-4d17-8331-3f4eeef94d50"
      },
      "source": [
        "model = tf.keras.Model(inputs=inputs,outputs=predictions)\n",
        "model.summary()"
      ],
      "execution_count": 31,
      "outputs": [
        {
          "output_type": "stream",
          "text": [
            "Model: \"functional_3\"\n",
            "_________________________________________________________________\n",
            "Layer (type)                 Output Shape              Param #   \n",
            "=================================================================\n",
            "input_2 (InputLayer)         [(None, 28, 28, 1)]       0         \n",
            "_________________________________________________________________\n",
            "conv2d_3 (Conv2D)            (None, 26, 26, 32)        320       \n",
            "_________________________________________________________________\n",
            "max_pooling2d_2 (MaxPooling2 (None, 13, 13, 32)        0         \n",
            "_________________________________________________________________\n",
            "conv2d_4 (Conv2D)            (None, 11, 11, 64)        18496     \n",
            "_________________________________________________________________\n",
            "max_pooling2d_3 (MaxPooling2 (None, 5, 5, 64)          0         \n",
            "_________________________________________________________________\n",
            "conv2d_5 (Conv2D)            (None, 3, 3, 64)          36928     \n",
            "_________________________________________________________________\n",
            "flatten_1 (Flatten)          (None, 576)               0         \n",
            "_________________________________________________________________\n",
            "dense_2 (Dense)              (None, 64)                36928     \n",
            "_________________________________________________________________\n",
            "dense_3 (Dense)              (None, 10)                650       \n",
            "=================================================================\n",
            "Total params: 93,322\n",
            "Trainable params: 93,322\n",
            "Non-trainable params: 0\n",
            "_________________________________________________________________\n"
          ],
          "name": "stdout"
        }
      ]
    },
    {
      "cell_type": "markdown",
      "metadata": {
        "id": "DPWgbXogwDC0",
        "colab_type": "text"
      },
      "source": [
        "**Compiling it**"
      ]
    },
    {
      "cell_type": "code",
      "metadata": {
        "id": "BExsPKLqwAjw",
        "colab_type": "code",
        "colab": {}
      },
      "source": [
        "optimizer = tf.keras.optimizers.SGD()\n",
        "model.compile(loss='categorical_crossentropy',\n",
        "              optimizer=optimizer,\n",
        "              metrics=['accuracy'])"
      ],
      "execution_count": 32,
      "outputs": []
    },
    {
      "cell_type": "markdown",
      "metadata": {
        "id": "kEspIjQKwI4b",
        "colab_type": "text"
      },
      "source": [
        "**Defining a strategy** "
      ]
    },
    {
      "cell_type": "code",
      "metadata": {
        "id": "paXrWBBywFIR",
        "colab_type": "code",
        "colab": {
          "base_uri": "https://localhost:8080/",
          "height": 69
        },
        "outputId": "c4085017-1133-4433-eacd-f56918e707ca"
      },
      "source": [
        "strategy = tf.distribute.MirroredStrategy() # For CPU\n",
        "config = tf.estimator.RunConfig(train_distribute=strategy)"
      ],
      "execution_count": 33,
      "outputs": [
        {
          "output_type": "stream",
          "text": [
            "INFO:tensorflow:Using MirroredStrategy with devices ('/job:localhost/replica:0/task:0/device:GPU:0',)\n",
            "INFO:tensorflow:Initializing RunConfig with distribution strategies.\n",
            "INFO:tensorflow:Not using Distribute Coordinator.\n"
          ],
          "name": "stdout"
        }
      ]
    },
    {
      "cell_type": "markdown",
      "metadata": {
        "id": "H69Lni36waZW",
        "colab_type": "text"
      },
      "source": [
        "**Defining an estimator**"
      ]
    },
    {
      "cell_type": "code",
      "metadata": {
        "id": "-3exEuiTwWSi",
        "colab_type": "code",
        "colab": {
          "base_uri": "https://localhost:8080/",
          "height": 193
        },
        "outputId": "ce39c19e-25b7-4eb3-b05d-459cf56db143"
      },
      "source": [
        "estimator = tf.keras.estimator.model_to_estimator(model,config=config)"
      ],
      "execution_count": 34,
      "outputs": [
        {
          "output_type": "stream",
          "text": [
            "WARNING:tensorflow:Using temporary folder as model directory: /tmp/tmp8mnpdonz\n",
            "INFO:tensorflow:Using the Keras model provided.\n",
            "INFO:tensorflow:Using config: {'_model_dir': '/tmp/tmp8mnpdonz', '_tf_random_seed': None, '_save_summary_steps': 100, '_save_checkpoints_steps': None, '_save_checkpoints_secs': 600, '_session_config': allow_soft_placement: true\n",
            "graph_options {\n",
            "  rewrite_options {\n",
            "    meta_optimizer_iterations: ONE\n",
            "  }\n",
            "}\n",
            ", '_keep_checkpoint_max': 5, '_keep_checkpoint_every_n_hours': 10000, '_log_step_count_steps': 100, '_train_distribute': <tensorflow.python.distribute.mirrored_strategy.MirroredStrategy object at 0x7fa344e51048>, '_device_fn': None, '_protocol': None, '_eval_distribute': None, '_experimental_distribute': None, '_experimental_max_worker_delay_secs': None, '_session_creation_timeout_secs': 7200, '_service': None, '_cluster_spec': ClusterSpec({}), '_task_type': 'worker', '_task_id': 0, '_global_id_in_cluster': 0, '_master': '', '_evaluation_master': '', '_is_chief': True, '_num_ps_replicas': 0, '_num_worker_replicas': 1, '_distribute_coordinator_mode': None}\n"
          ],
          "name": "stdout"
        }
      ]
    },
    {
      "cell_type": "markdown",
      "metadata": {
        "id": "pPfiFRHNwken",
        "colab_type": "text"
      },
      "source": [
        "**Input function for training and for testing**\n"
      ]
    },
    {
      "cell_type": "code",
      "metadata": {
        "id": "3GX6Hcb5wZiI",
        "colab_type": "code",
        "colab": {}
      },
      "source": [
        "def input_fn(images,labels,epochs,batch_size):\n",
        "  dataset = tf.data.Dataset.from_tensor_slices((images,labels))\n",
        "  SHUFFLE_SIZE = 5000\n",
        "  dataset = dataset.shuffle(SHUFFLE_SIZE).repeat(epochs).batch(batch_size)\n",
        "  dataset = dataset.prefetch(None)\n",
        "\n",
        "  return dataset"
      ],
      "execution_count": 35,
      "outputs": []
    },
    {
      "cell_type": "markdown",
      "metadata": {
        "id": "OpQcBU8_wo7m",
        "colab_type": "text"
      },
      "source": [
        "**Training**"
      ]
    },
    {
      "cell_type": "code",
      "metadata": {
        "id": "DsbDxHDPwm3Y",
        "colab_type": "code",
        "colab": {
          "base_uri": "https://localhost:8080/",
          "height": 1000
        },
        "outputId": "ba90acb8-d8df-4170-e550-87dc6fbcc254"
      },
      "source": [
        "%time\n",
        "BATCH_SIZE = 512\n",
        "EPOCHS = 50\n",
        "\n",
        "estimator_train_result = estimator.train(input_fn=lambda:input_fn(train_images,train_labels,EPOCHS,BATCH_SIZE))"
      ],
      "execution_count": 36,
      "outputs": [
        {
          "output_type": "stream",
          "text": [
            "CPU times: user 3 µs, sys: 1 µs, total: 4 µs\n",
            "Wall time: 9.06 µs\n",
            "INFO:tensorflow:Calling model_fn.\n",
            "INFO:tensorflow:Done calling model_fn.\n",
            "WARNING:tensorflow:AutoGraph could not transform <function _combine_distributed_scaffold.<locals>.<lambda> at 0x7fa34945b730> and will run it as-is.\n",
            "Cause: could not parse the source code:\n",
            "\n",
            "      lambda scaffold: scaffold.ready_op, args=(grouped_scaffold,))\n",
            "\n",
            "This error may be avoided by creating the lambda in a standalone statement.\n",
            "\n",
            "To silence this warning, decorate the function with @tf.autograph.experimental.do_not_convert\n",
            "WARNING: AutoGraph could not transform <function _combine_distributed_scaffold.<locals>.<lambda> at 0x7fa34945b730> and will run it as-is.\n",
            "Cause: could not parse the source code:\n",
            "\n",
            "      lambda scaffold: scaffold.ready_op, args=(grouped_scaffold,))\n",
            "\n",
            "This error may be avoided by creating the lambda in a standalone statement.\n",
            "\n",
            "To silence this warning, decorate the function with @tf.autograph.experimental.do_not_convert\n",
            "INFO:tensorflow:Warm-starting with WarmStartSettings: WarmStartSettings(ckpt_to_initialize_from='/tmp/tmp8mnpdonz/keras/keras_model.ckpt', vars_to_warm_start='.*', var_name_to_vocab_info={}, var_name_to_prev_var_name={})\n",
            "INFO:tensorflow:Warm-starting from: /tmp/tmp8mnpdonz/keras/keras_model.ckpt\n",
            "INFO:tensorflow:Warm-starting variables only in TRAINABLE_VARIABLES.\n",
            "INFO:tensorflow:Warm-started 10 variables.\n",
            "INFO:tensorflow:Create CheckpointSaverHook.\n",
            "INFO:tensorflow:Graph was finalized.\n",
            "INFO:tensorflow:Running local_init_op.\n",
            "INFO:tensorflow:Done running local_init_op.\n",
            "INFO:tensorflow:Calling checkpoint listeners before saving checkpoint 0...\n",
            "INFO:tensorflow:Saving checkpoints for 0 into /tmp/tmp8mnpdonz/model.ckpt.\n",
            "INFO:tensorflow:Calling checkpoint listeners after saving checkpoint 0...\n",
            "INFO:tensorflow:loss = 2.3001857, step = 0\n",
            "INFO:tensorflow:global_step/sec: 93.2305\n",
            "INFO:tensorflow:loss = 2.2072837, step = 100 (1.075 sec)\n",
            "INFO:tensorflow:global_step/sec: 104.102\n",
            "INFO:tensorflow:loss = 1.642977, step = 200 (0.961 sec)\n",
            "INFO:tensorflow:global_step/sec: 104.023\n",
            "INFO:tensorflow:loss = 1.081508, step = 300 (0.962 sec)\n",
            "INFO:tensorflow:global_step/sec: 104.312\n",
            "INFO:tensorflow:loss = 0.94387376, step = 400 (0.959 sec)\n",
            "INFO:tensorflow:global_step/sec: 102.724\n",
            "INFO:tensorflow:loss = 0.85405374, step = 500 (0.972 sec)\n",
            "INFO:tensorflow:global_step/sec: 104.293\n",
            "INFO:tensorflow:loss = 0.87803686, step = 600 (0.957 sec)\n",
            "INFO:tensorflow:global_step/sec: 104.765\n",
            "INFO:tensorflow:loss = 0.8257034, step = 700 (0.956 sec)\n",
            "INFO:tensorflow:global_step/sec: 105.78\n",
            "INFO:tensorflow:loss = 0.7849496, step = 800 (0.944 sec)\n",
            "INFO:tensorflow:global_step/sec: 104.486\n",
            "INFO:tensorflow:loss = 0.7979786, step = 900 (0.957 sec)\n",
            "INFO:tensorflow:global_step/sec: 103.861\n",
            "INFO:tensorflow:loss = 0.7947975, step = 1000 (0.963 sec)\n",
            "INFO:tensorflow:global_step/sec: 105.915\n",
            "INFO:tensorflow:loss = 0.7254893, step = 1100 (0.946 sec)\n",
            "INFO:tensorflow:global_step/sec: 105.444\n",
            "INFO:tensorflow:loss = 0.7159443, step = 1200 (0.949 sec)\n",
            "INFO:tensorflow:global_step/sec: 104.194\n",
            "INFO:tensorflow:loss = 0.66179645, step = 1300 (0.958 sec)\n",
            "INFO:tensorflow:global_step/sec: 103.639\n",
            "INFO:tensorflow:loss = 0.57373023, step = 1400 (0.966 sec)\n",
            "INFO:tensorflow:global_step/sec: 103.661\n",
            "INFO:tensorflow:loss = 0.6194086, step = 1500 (0.965 sec)\n",
            "INFO:tensorflow:global_step/sec: 104.858\n",
            "INFO:tensorflow:loss = 0.5844598, step = 1600 (0.954 sec)\n",
            "INFO:tensorflow:global_step/sec: 105.754\n",
            "INFO:tensorflow:loss = 0.6091352, step = 1700 (0.946 sec)\n",
            "INFO:tensorflow:global_step/sec: 103.538\n",
            "INFO:tensorflow:loss = 0.5985003, step = 1800 (0.963 sec)\n",
            "INFO:tensorflow:global_step/sec: 102.698\n",
            "INFO:tensorflow:loss = 0.6010527, step = 1900 (0.975 sec)\n",
            "INFO:tensorflow:global_step/sec: 105.852\n",
            "INFO:tensorflow:loss = 0.58600676, step = 2000 (0.945 sec)\n",
            "INFO:tensorflow:global_step/sec: 104.263\n",
            "INFO:tensorflow:loss = 0.5988298, step = 2100 (0.959 sec)\n",
            "INFO:tensorflow:global_step/sec: 105.169\n",
            "INFO:tensorflow:loss = 0.5668782, step = 2200 (0.952 sec)\n",
            "INFO:tensorflow:global_step/sec: 103.433\n",
            "INFO:tensorflow:loss = 0.5616256, step = 2300 (0.964 sec)\n",
            "INFO:tensorflow:global_step/sec: 102.423\n",
            "INFO:tensorflow:loss = 0.5227221, step = 2400 (0.977 sec)\n",
            "INFO:tensorflow:global_step/sec: 104.05\n",
            "INFO:tensorflow:loss = 0.5355483, step = 2500 (0.962 sec)\n",
            "INFO:tensorflow:global_step/sec: 104.366\n",
            "INFO:tensorflow:loss = 0.52800286, step = 2600 (0.956 sec)\n",
            "INFO:tensorflow:global_step/sec: 104.315\n",
            "INFO:tensorflow:loss = 0.55241686, step = 2700 (0.962 sec)\n",
            "INFO:tensorflow:global_step/sec: 105.159\n",
            "INFO:tensorflow:loss = 0.5482747, step = 2800 (0.950 sec)\n",
            "INFO:tensorflow:global_step/sec: 105.448\n",
            "INFO:tensorflow:loss = 0.49026996, step = 2900 (0.949 sec)\n",
            "INFO:tensorflow:global_step/sec: 104.226\n",
            "INFO:tensorflow:loss = 0.4813293, step = 3000 (0.959 sec)\n",
            "INFO:tensorflow:global_step/sec: 105.614\n",
            "INFO:tensorflow:loss = 0.49247956, step = 3100 (0.947 sec)\n",
            "INFO:tensorflow:global_step/sec: 103.213\n",
            "INFO:tensorflow:loss = 0.5707729, step = 3200 (0.967 sec)\n",
            "INFO:tensorflow:global_step/sec: 101.951\n",
            "INFO:tensorflow:loss = 0.48665437, step = 3300 (0.983 sec)\n",
            "INFO:tensorflow:global_step/sec: 104.001\n",
            "INFO:tensorflow:loss = 0.48300603, step = 3400 (0.961 sec)\n",
            "INFO:tensorflow:global_step/sec: 103.035\n",
            "INFO:tensorflow:loss = 0.5079603, step = 3500 (0.969 sec)\n",
            "INFO:tensorflow:global_step/sec: 102.527\n",
            "INFO:tensorflow:loss = 0.48281425, step = 3600 (0.977 sec)\n",
            "INFO:tensorflow:global_step/sec: 104.706\n",
            "INFO:tensorflow:loss = 0.48442298, step = 3700 (0.955 sec)\n",
            "INFO:tensorflow:global_step/sec: 105.062\n",
            "INFO:tensorflow:loss = 0.46820447, step = 3800 (0.950 sec)\n",
            "INFO:tensorflow:global_step/sec: 103.853\n",
            "INFO:tensorflow:loss = 0.49049717, step = 3900 (0.963 sec)\n",
            "INFO:tensorflow:global_step/sec: 104.592\n",
            "INFO:tensorflow:loss = 0.53105736, step = 4000 (0.956 sec)\n",
            "INFO:tensorflow:global_step/sec: 103.45\n",
            "INFO:tensorflow:loss = 0.5099574, step = 4100 (0.967 sec)\n",
            "INFO:tensorflow:global_step/sec: 103.565\n",
            "INFO:tensorflow:loss = 0.5024566, step = 4200 (0.968 sec)\n",
            "INFO:tensorflow:global_step/sec: 104.965\n",
            "INFO:tensorflow:loss = 0.51302147, step = 4300 (0.950 sec)\n",
            "INFO:tensorflow:global_step/sec: 101.543\n",
            "INFO:tensorflow:loss = 0.49739718, step = 4400 (0.988 sec)\n",
            "INFO:tensorflow:global_step/sec: 103.84\n",
            "INFO:tensorflow:loss = 0.43829578, step = 4500 (0.963 sec)\n",
            "INFO:tensorflow:global_step/sec: 102.656\n",
            "INFO:tensorflow:loss = 0.4368665, step = 4600 (0.975 sec)\n",
            "INFO:tensorflow:global_step/sec: 99.0332\n",
            "INFO:tensorflow:loss = 0.4659489, step = 4700 (1.006 sec)\n",
            "INFO:tensorflow:global_step/sec: 102.886\n",
            "INFO:tensorflow:loss = 0.39243537, step = 4800 (0.972 sec)\n",
            "INFO:tensorflow:global_step/sec: 105.319\n",
            "INFO:tensorflow:loss = 0.49970874, step = 4900 (0.951 sec)\n",
            "INFO:tensorflow:global_step/sec: 103.883\n",
            "INFO:tensorflow:loss = 0.42043552, step = 5000 (0.963 sec)\n",
            "INFO:tensorflow:global_step/sec: 105.716\n",
            "INFO:tensorflow:loss = 0.4202633, step = 5100 (0.945 sec)\n",
            "INFO:tensorflow:global_step/sec: 103.333\n",
            "INFO:tensorflow:loss = 0.4378056, step = 5200 (0.967 sec)\n",
            "INFO:tensorflow:global_step/sec: 104.637\n",
            "INFO:tensorflow:loss = 0.4027943, step = 5300 (0.955 sec)\n",
            "INFO:tensorflow:global_step/sec: 105.645\n",
            "INFO:tensorflow:loss = 0.37990344, step = 5400 (0.948 sec)\n",
            "INFO:tensorflow:global_step/sec: 103.582\n",
            "INFO:tensorflow:loss = 0.36836782, step = 5500 (0.962 sec)\n",
            "INFO:tensorflow:global_step/sec: 104.204\n",
            "INFO:tensorflow:loss = 0.42634284, step = 5600 (0.962 sec)\n",
            "INFO:tensorflow:global_step/sec: 103.027\n",
            "INFO:tensorflow:loss = 0.40574828, step = 5700 (0.969 sec)\n",
            "INFO:tensorflow:global_step/sec: 104.613\n",
            "INFO:tensorflow:loss = 0.43197706, step = 5800 (0.957 sec)\n",
            "INFO:tensorflow:Calling checkpoint listeners before saving checkpoint 5860...\n",
            "INFO:tensorflow:Saving checkpoints for 5860 into /tmp/tmp8mnpdonz/model.ckpt.\n",
            "INFO:tensorflow:Calling checkpoint listeners after saving checkpoint 5860...\n",
            "INFO:tensorflow:Loss for final step: 0.38906875.\n"
          ],
          "name": "stdout"
        }
      ]
    },
    {
      "cell_type": "code",
      "metadata": {
        "id": "E52NZBVFw3QX",
        "colab_type": "code",
        "colab": {}
      },
      "source": [
        "estimator_train_result."
      ],
      "execution_count": 36,
      "outputs": []
    },
    {
      "cell_type": "code",
      "metadata": {
        "id": "L2sILcAOwrQ-",
        "colab_type": "code",
        "colab": {
          "base_uri": "https://localhost:8080/",
          "height": 297
        },
        "outputId": "b2e0172f-27b6-4e23-8d2b-05ace2c84af8"
      },
      "source": [
        "estimator.evaluate(lambda:input_fn(test_images,test_labels,1,BATCH_SIZE))"
      ],
      "execution_count": 37,
      "outputs": [
        {
          "output_type": "stream",
          "text": [
            "INFO:tensorflow:Calling model_fn.\n",
            "WARNING:tensorflow:From /usr/local/lib/python3.6/dist-packages/tensorflow/python/keras/engine/training_v1.py:2048: Model.state_updates (from tensorflow.python.keras.engine.training) is deprecated and will be removed in a future version.\n",
            "Instructions for updating:\n",
            "This property should not be used in TensorFlow 2.0, as updates are applied automatically.\n",
            "INFO:tensorflow:Done calling model_fn.\n",
            "INFO:tensorflow:Starting evaluation at 2020-09-02T12:29:00Z\n",
            "INFO:tensorflow:Graph was finalized.\n",
            "INFO:tensorflow:Restoring parameters from /tmp/tmp8mnpdonz/model.ckpt-5860\n",
            "INFO:tensorflow:Running local_init_op.\n",
            "INFO:tensorflow:Done running local_init_op.\n",
            "INFO:tensorflow:Inference Time : 0.40301s\n",
            "INFO:tensorflow:Finished evaluation at 2020-09-02-12:29:00\n",
            "INFO:tensorflow:Saving dict for global step 5860: accuracy = 0.8268, global_step = 5860, loss = 0.48587567\n",
            "INFO:tensorflow:Saving 'checkpoint_path' summary for global step 5860: /tmp/tmp8mnpdonz/model.ckpt-5860\n"
          ],
          "name": "stdout"
        },
        {
          "output_type": "execute_result",
          "data": {
            "text/plain": [
              "{'accuracy': 0.8268, 'global_step': 5860, 'loss': 0.48587567}"
            ]
          },
          "metadata": {
            "tags": []
          },
          "execution_count": 37
        }
      ]
    }
  ]
}