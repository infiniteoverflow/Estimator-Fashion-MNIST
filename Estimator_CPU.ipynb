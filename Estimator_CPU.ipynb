{
  "nbformat": 4,
  "nbformat_minor": 0,
  "metadata": {
    "colab": {
      "name": "Estimator-CPU.ipynb",
      "provenance": [],
      "authorship_tag": "ABX9TyOYFuHC5gKNB8EUlhqWkTDn",
      "include_colab_link": true
    },
    "kernelspec": {
      "name": "python3",
      "display_name": "Python 3"
    }
  },
  "cells": [
    {
      "cell_type": "markdown",
      "metadata": {
        "id": "view-in-github",
        "colab_type": "text"
      },
      "source": [
        "<a href=\"https://colab.research.google.com/github/infiniteoverflow/Estimator-Fashion-MNIST/blob/master/Estimator_CPU.ipynb\" target=\"_parent\"><img src=\"https://colab.research.google.com/assets/colab-badge.svg\" alt=\"Open In Colab\"/></a>"
      ]
    },
    {
      "cell_type": "code",
      "metadata": {
        "id": "--Ig-jpV10OX",
        "colab_type": "code",
        "colab": {
          "base_uri": "https://localhost:8080/",
          "height": 35
        },
        "outputId": "3fdcb04b-7c0e-44f6-ad7e-765978201898"
      },
      "source": [
        "import tensorflow as tf\n",
        "import numpy as np\n",
        "print(tf.version)"
      ],
      "execution_count": 2,
      "outputs": [
        {
          "output_type": "stream",
          "text": [
            "<module 'tensorflow._api.v2.version' from '/usr/local/lib/python3.6/dist-packages/tensorflow/_api/v2/version/__init__.py'>\n"
          ],
          "name": "stdout"
        }
      ]
    },
    {
      "cell_type": "code",
      "metadata": {
        "id": "I7l_HKDb17gY",
        "colab_type": "code",
        "colab": {}
      },
      "source": [
        "LABEL_DIMENSIONS = 10"
      ],
      "execution_count": 3,
      "outputs": []
    },
    {
      "cell_type": "code",
      "metadata": {
        "id": "8Zy2qlgY2Ccm",
        "colab_type": "code",
        "colab": {
          "base_uri": "https://localhost:8080/",
          "height": 156
        },
        "outputId": "54925035-1b7f-4892-fd5c-68c02f8f2d06"
      },
      "source": [
        "(train_images,train_labels) , (test_images,test_labels) = tf.keras.datasets.fashion_mnist.load_data()"
      ],
      "execution_count": 4,
      "outputs": [
        {
          "output_type": "stream",
          "text": [
            "Downloading data from https://storage.googleapis.com/tensorflow/tf-keras-datasets/train-labels-idx1-ubyte.gz\n",
            "32768/29515 [=================================] - 0s 0us/step\n",
            "Downloading data from https://storage.googleapis.com/tensorflow/tf-keras-datasets/train-images-idx3-ubyte.gz\n",
            "26427392/26421880 [==============================] - 0s 0us/step\n",
            "Downloading data from https://storage.googleapis.com/tensorflow/tf-keras-datasets/t10k-labels-idx1-ubyte.gz\n",
            "8192/5148 [===============================================] - 0s 0us/step\n",
            "Downloading data from https://storage.googleapis.com/tensorflow/tf-keras-datasets/t10k-images-idx3-ubyte.gz\n",
            "4423680/4422102 [==============================] - 0s 0us/step\n"
          ],
          "name": "stdout"
        }
      ]
    },
    {
      "cell_type": "code",
      "metadata": {
        "id": "N83wRH8-2Lo4",
        "colab_type": "code",
        "colab": {
          "base_uri": "https://localhost:8080/",
          "height": 52
        },
        "outputId": "6bf06cee-2988-444d-a8c3-baadbf2d8b57"
      },
      "source": [
        "print('train_images : {} train_labels : {}'.format(train_images.shape,train_labels.shape))\n",
        "print('test_images : {} test_labels : {}'.format(test_images.shape,test_labels.shape))"
      ],
      "execution_count": 6,
      "outputs": [
        {
          "output_type": "stream",
          "text": [
            "train_images : (60000, 28, 28) train_labels : (60000,)\n",
            "test_images : (10000, 28, 28) test_labels : (10000,)\n"
          ],
          "name": "stdout"
        }
      ]
    },
    {
      "cell_type": "code",
      "metadata": {
        "id": "5qujUHUW2ZZn",
        "colab_type": "code",
        "colab": {}
      },
      "source": [
        "TRAINING_SIZE = len(train_images)\n",
        "TEST_SIZE = len(test_images)"
      ],
      "execution_count": 7,
      "outputs": []
    },
    {
      "cell_type": "code",
      "metadata": {
        "id": "F_7F4-kt2wz_",
        "colab_type": "code",
        "colab": {
          "base_uri": "https://localhost:8080/",
          "height": 35
        },
        "outputId": "4d46ad36-03f6-4f66-bc72-34be022a78a7"
      },
      "source": [
        "TRAINING_SIZE , TEST_SIZE"
      ],
      "execution_count": 8,
      "outputs": [
        {
          "output_type": "execute_result",
          "data": {
            "text/plain": [
              "(60000, 10000)"
            ]
          },
          "metadata": {
            "tags": []
          },
          "execution_count": 8
        }
      ]
    },
    {
      "cell_type": "code",
      "metadata": {
        "id": "je0YSyRS21Tf",
        "colab_type": "code",
        "colab": {}
      },
      "source": [
        "train_images = np.asarray(train_images,dtype=np.float32)/255\n",
        "test_images = np.asarray(test_images,dtype=np.float32)/255"
      ],
      "execution_count": 9,
      "outputs": []
    },
    {
      "cell_type": "code",
      "metadata": {
        "id": "KaTjQYxT3HEP",
        "colab_type": "code",
        "colab": {}
      },
      "source": [
        "train_images = train_images.reshape((TRAINING_SIZE,28,28,1))\n",
        "test_images = test_images.reshape((TEST_SIZE,28,28,1))"
      ],
      "execution_count": 11,
      "outputs": []
    },
    {
      "cell_type": "code",
      "metadata": {
        "id": "j1rGdQ8Y3WaU",
        "colab_type": "code",
        "colab": {}
      },
      "source": [
        "train_labels = tf.keras.utils.to_categorical(train_labels,num_classes=LABEL_DIMENSIONS)\n",
        "test_labels = tf.keras.utils.to_categorical(test_labels,num_classes=LABEL_DIMENSIONS)"
      ],
      "execution_count": 12,
      "outputs": []
    },
    {
      "cell_type": "code",
      "metadata": {
        "id": "28LVyIjE3sbF",
        "colab_type": "code",
        "colab": {}
      },
      "source": [
        "train_labels = train_labels.astype(np.float32)\n",
        "test_labels = test_labels.astype(np.float32)"
      ],
      "execution_count": 13,
      "outputs": []
    },
    {
      "cell_type": "markdown",
      "metadata": {
        "id": "R8TfaUTZ373G",
        "colab_type": "text"
      },
      "source": [
        "**Building a convolution model with `tf.keras` functional API**"
      ]
    },
    {
      "cell_type": "code",
      "metadata": {
        "id": "sxoUkPAj32t0",
        "colab_type": "code",
        "colab": {}
      },
      "source": [
        "inputs = tf.keras.Input(shape=(28,28,1))\n",
        "\n",
        "x = tf.keras.layers.Conv2D(filters=32,kernel_size=(3,3),activation='relu')(inputs)\n",
        "x = tf.keras.layers.MaxPooling2D(pool_size=(2,2),strides=2)(x)\n",
        "\n",
        "x = tf.keras.layers.Conv2D(filters=64,kernel_size=(3,3),activation='relu')(x)\n",
        "x = tf.keras.layers.MaxPooling2D(pool_size=(2,2),strides=2)(x)\n",
        "\n",
        "x = tf.keras.layers.Conv2D(filters=64,kernel_size=(3,3),activation='relu')(x)\n",
        "\n",
        "\n",
        "x = tf.keras.layers.Flatten()(x)\n",
        "\n",
        "x = tf.keras.layers.Dense(64,activation='relu')(x)\n",
        "\n",
        "predictions = tf.keras.layers.Dense(LABEL_DIMENSIONS,activation='softmax')(x)"
      ],
      "execution_count": 14,
      "outputs": []
    },
    {
      "cell_type": "code",
      "metadata": {
        "id": "Fm5SRnfR48Ab",
        "colab_type": "code",
        "colab": {
          "base_uri": "https://localhost:8080/",
          "height": 468
        },
        "outputId": "891cb2bc-0e3a-494c-e72f-de5e4ae4f697"
      },
      "source": [
        "model = tf.keras.Model(inputs=inputs,outputs=predictions)\n",
        "model.summary()"
      ],
      "execution_count": 15,
      "outputs": [
        {
          "output_type": "stream",
          "text": [
            "Model: \"functional_1\"\n",
            "_________________________________________________________________\n",
            "Layer (type)                 Output Shape              Param #   \n",
            "=================================================================\n",
            "input_1 (InputLayer)         [(None, 28, 28, 1)]       0         \n",
            "_________________________________________________________________\n",
            "conv2d (Conv2D)              (None, 26, 26, 32)        320       \n",
            "_________________________________________________________________\n",
            "max_pooling2d (MaxPooling2D) (None, 13, 13, 32)        0         \n",
            "_________________________________________________________________\n",
            "conv2d_1 (Conv2D)            (None, 11, 11, 64)        18496     \n",
            "_________________________________________________________________\n",
            "max_pooling2d_1 (MaxPooling2 (None, 5, 5, 64)          0         \n",
            "_________________________________________________________________\n",
            "conv2d_2 (Conv2D)            (None, 3, 3, 64)          36928     \n",
            "_________________________________________________________________\n",
            "flatten (Flatten)            (None, 576)               0         \n",
            "_________________________________________________________________\n",
            "dense (Dense)                (None, 64)                36928     \n",
            "_________________________________________________________________\n",
            "dense_1 (Dense)              (None, 10)                650       \n",
            "=================================================================\n",
            "Total params: 93,322\n",
            "Trainable params: 93,322\n",
            "Non-trainable params: 0\n",
            "_________________________________________________________________\n"
          ],
          "name": "stdout"
        }
      ]
    },
    {
      "cell_type": "markdown",
      "metadata": {
        "id": "bfsDCUO65M6m",
        "colab_type": "text"
      },
      "source": [
        "**Compiling it**"
      ]
    },
    {
      "cell_type": "code",
      "metadata": {
        "id": "vKnQlNlh5ELh",
        "colab_type": "code",
        "colab": {}
      },
      "source": [
        "optimizer = tf.keras.optimizers.SGD()\n",
        "model.compile(loss='categorical_crossentropy',\n",
        "              optimizer=optimizer,\n",
        "              metrics=['accuracy'])"
      ],
      "execution_count": 16,
      "outputs": []
    },
    {
      "cell_type": "markdown",
      "metadata": {
        "id": "vJBqSPNT5hCb",
        "colab_type": "text"
      },
      "source": [
        "**Defining a strategy**"
      ]
    },
    {
      "cell_type": "code",
      "metadata": {
        "id": "E-Z1_TFK5fXG",
        "colab_type": "code",
        "colab": {}
      },
      "source": [
        "strategy = None # For CPU\n",
        "config = tf.estimator.RunConfig(train_distribute=strategy)"
      ],
      "execution_count": 17,
      "outputs": []
    },
    {
      "cell_type": "markdown",
      "metadata": {
        "id": "v2NSLrX36kCB",
        "colab_type": "text"
      },
      "source": [
        "**Defining an estimator**"
      ]
    },
    {
      "cell_type": "code",
      "metadata": {
        "id": "t5YjVO8L6nHg",
        "colab_type": "code",
        "colab": {
          "base_uri": "https://localhost:8080/",
          "height": 245
        },
        "outputId": "fb1d0cdc-5a36-4e9a-a5aa-b8785aa6fe47"
      },
      "source": [
        "estimator = tf.keras.estimator.model_to_estimator(model,config=config)"
      ],
      "execution_count": 19,
      "outputs": [
        {
          "output_type": "stream",
          "text": [
            "WARNING:tensorflow:Using temporary folder as model directory: /tmp/tmprtkbi2i2\n",
            "INFO:tensorflow:Using the Keras model provided.\n",
            "WARNING:tensorflow:From /usr/local/lib/python3.6/dist-packages/tensorflow_estimator/python/estimator/keras.py:220: set_learning_phase (from tensorflow.python.keras.backend) is deprecated and will be removed after 2020-10-11.\n",
            "Instructions for updating:\n",
            "Simply pass a True/False value to the `training` argument of the `__call__` method of your layer or model.\n",
            "INFO:tensorflow:Using config: {'_model_dir': '/tmp/tmprtkbi2i2', '_tf_random_seed': None, '_save_summary_steps': 100, '_save_checkpoints_steps': None, '_save_checkpoints_secs': 600, '_session_config': allow_soft_placement: true\n",
            "graph_options {\n",
            "  rewrite_options {\n",
            "    meta_optimizer_iterations: ONE\n",
            "  }\n",
            "}\n",
            ", '_keep_checkpoint_max': 5, '_keep_checkpoint_every_n_hours': 10000, '_log_step_count_steps': 100, '_train_distribute': None, '_device_fn': None, '_protocol': None, '_eval_distribute': None, '_experimental_distribute': None, '_experimental_max_worker_delay_secs': None, '_session_creation_timeout_secs': 7200, '_service': None, '_cluster_spec': ClusterSpec({}), '_task_type': 'worker', '_task_id': 0, '_global_id_in_cluster': 0, '_master': '', '_evaluation_master': '', '_is_chief': True, '_num_ps_replicas': 0, '_num_worker_replicas': 1}\n"
          ],
          "name": "stdout"
        }
      ]
    },
    {
      "cell_type": "markdown",
      "metadata": {
        "id": "-89qJKYO5vgh",
        "colab_type": "text"
      },
      "source": [
        "**Input function for training and for testing**"
      ]
    },
    {
      "cell_type": "code",
      "metadata": {
        "id": "ckJ8nnnd5tr3",
        "colab_type": "code",
        "colab": {}
      },
      "source": [
        "def input_fn(images,labels,epochs,batch_size):\n",
        "  dataset = tf.data.Dataset.from_tensor_slices((images,labels))\n",
        "  SHUFFLE_SIZE = 5000\n",
        "  dataset = dataset.shuffle(SHUFFLE_SIZE).repeat(epochs).batch(batch_size)\n",
        "  dataset = dataset.prefetch(None)\n",
        "\n",
        "  return dataset"
      ],
      "execution_count": 18,
      "outputs": []
    },
    {
      "cell_type": "markdown",
      "metadata": {
        "id": "ZfRB8YkP6UkY",
        "colab_type": "text"
      },
      "source": [
        "**Training**"
      ]
    },
    {
      "cell_type": "code",
      "metadata": {
        "id": "AAAXzsop6STO",
        "colab_type": "code",
        "colab": {
          "base_uri": "https://localhost:8080/",
          "height": 1000
        },
        "outputId": "290bea39-533d-407e-8420-b3e1a9fcf4e3"
      },
      "source": [
        "BATCH_SIZE = 512\n",
        "EPOCHS = 50\n",
        "\n",
        "estimator_train_result = estimator.train(input_fn=lambda:input_fn(train_images,train_labels,EPOCHS,BATCH_SIZE))"
      ],
      "execution_count": 20,
      "outputs": [
        {
          "output_type": "stream",
          "text": [
            "WARNING:tensorflow:From /usr/local/lib/python3.6/dist-packages/tensorflow/python/training/training_util.py:236: Variable.initialized_value (from tensorflow.python.ops.variables) is deprecated and will be removed in a future version.\n",
            "Instructions for updating:\n",
            "Use Variable.read_value. Variables in 2.X are initialized automatically both in eager and graph (inside tf.defun) contexts.\n",
            "INFO:tensorflow:Calling model_fn.\n",
            "INFO:tensorflow:Done calling model_fn.\n",
            "INFO:tensorflow:Warm-starting with WarmStartSettings: WarmStartSettings(ckpt_to_initialize_from='/tmp/tmprtkbi2i2/keras/keras_model.ckpt', vars_to_warm_start='.*', var_name_to_vocab_info={}, var_name_to_prev_var_name={})\n",
            "INFO:tensorflow:Warm-starting from: /tmp/tmprtkbi2i2/keras/keras_model.ckpt\n",
            "INFO:tensorflow:Warm-starting variables only in TRAINABLE_VARIABLES.\n",
            "INFO:tensorflow:Warm-started 10 variables.\n",
            "INFO:tensorflow:Create CheckpointSaverHook.\n",
            "INFO:tensorflow:Graph was finalized.\n",
            "INFO:tensorflow:Running local_init_op.\n",
            "INFO:tensorflow:Done running local_init_op.\n",
            "INFO:tensorflow:Calling checkpoint listeners before saving checkpoint 0...\n",
            "INFO:tensorflow:Saving checkpoints for 0 into /tmp/tmprtkbi2i2/model.ckpt.\n",
            "INFO:tensorflow:Calling checkpoint listeners after saving checkpoint 0...\n",
            "INFO:tensorflow:loss = 2.293357, step = 0\n",
            "INFO:tensorflow:global_step/sec: 2.83761\n",
            "INFO:tensorflow:loss = 2.1742625, step = 100 (35.243 sec)\n",
            "INFO:tensorflow:global_step/sec: 2.83965\n",
            "INFO:tensorflow:loss = 1.4553279, step = 200 (35.219 sec)\n",
            "INFO:tensorflow:global_step/sec: 2.82982\n",
            "INFO:tensorflow:loss = 0.9594071, step = 300 (35.334 sec)\n",
            "INFO:tensorflow:global_step/sec: 2.82503\n",
            "INFO:tensorflow:loss = 0.9900872, step = 400 (35.398 sec)\n",
            "INFO:tensorflow:global_step/sec: 2.79383\n",
            "INFO:tensorflow:loss = 0.765846, step = 500 (35.797 sec)\n",
            "INFO:tensorflow:global_step/sec: 2.83998\n",
            "INFO:tensorflow:loss = 0.8344226, step = 600 (35.208 sec)\n",
            "INFO:tensorflow:global_step/sec: 2.80358\n",
            "INFO:tensorflow:loss = 0.81882286, step = 700 (35.670 sec)\n",
            "INFO:tensorflow:global_step/sec: 2.80062\n",
            "INFO:tensorflow:loss = 0.7786347, step = 800 (35.708 sec)\n",
            "INFO:tensorflow:global_step/sec: 2.84723\n",
            "INFO:tensorflow:loss = 0.6634046, step = 900 (35.119 sec)\n",
            "INFO:tensorflow:global_step/sec: 2.85222\n",
            "INFO:tensorflow:loss = 0.6701422, step = 1000 (35.061 sec)\n",
            "INFO:tensorflow:global_step/sec: 2.84802\n",
            "INFO:tensorflow:loss = 0.6214919, step = 1100 (35.112 sec)\n",
            "INFO:tensorflow:global_step/sec: 2.83857\n",
            "INFO:tensorflow:loss = 0.67304057, step = 1200 (35.231 sec)\n",
            "INFO:tensorflow:global_step/sec: 2.84793\n",
            "INFO:tensorflow:loss = 0.7157621, step = 1300 (35.111 sec)\n",
            "INFO:tensorflow:global_step/sec: 2.84383\n",
            "INFO:tensorflow:loss = 0.6122565, step = 1400 (35.164 sec)\n",
            "INFO:tensorflow:global_step/sec: 2.82744\n",
            "INFO:tensorflow:loss = 0.5669185, step = 1500 (35.368 sec)\n",
            "INFO:tensorflow:global_step/sec: 2.82766\n",
            "INFO:tensorflow:loss = 0.6629151, step = 1600 (35.365 sec)\n",
            "INFO:tensorflow:Calling checkpoint listeners before saving checkpoint 1693...\n",
            "INFO:tensorflow:Saving checkpoints for 1693 into /tmp/tmprtkbi2i2/model.ckpt.\n",
            "INFO:tensorflow:Calling checkpoint listeners after saving checkpoint 1693...\n",
            "INFO:tensorflow:global_step/sec: 2.65626\n",
            "INFO:tensorflow:loss = 0.5611869, step = 1700 (37.646 sec)\n",
            "INFO:tensorflow:global_step/sec: 2.85168\n",
            "INFO:tensorflow:loss = 0.5736, step = 1800 (35.068 sec)\n",
            "INFO:tensorflow:global_step/sec: 2.8501\n",
            "INFO:tensorflow:loss = 0.6098765, step = 1900 (35.086 sec)\n",
            "INFO:tensorflow:global_step/sec: 2.85331\n",
            "INFO:tensorflow:loss = 0.59217197, step = 2000 (35.047 sec)\n",
            "INFO:tensorflow:global_step/sec: 2.8513\n",
            "INFO:tensorflow:loss = 0.5488272, step = 2100 (35.072 sec)\n",
            "INFO:tensorflow:global_step/sec: 2.83438\n",
            "INFO:tensorflow:loss = 0.49850753, step = 2200 (35.284 sec)\n",
            "INFO:tensorflow:global_step/sec: 2.84631\n",
            "INFO:tensorflow:loss = 0.5209188, step = 2300 (35.131 sec)\n",
            "INFO:tensorflow:global_step/sec: 2.84586\n",
            "INFO:tensorflow:loss = 0.5196533, step = 2400 (35.138 sec)\n",
            "INFO:tensorflow:global_step/sec: 2.82\n",
            "INFO:tensorflow:loss = 0.55673933, step = 2500 (35.462 sec)\n",
            "INFO:tensorflow:global_step/sec: 2.80202\n",
            "INFO:tensorflow:loss = 0.5157089, step = 2600 (35.692 sec)\n",
            "INFO:tensorflow:global_step/sec: 2.83695\n",
            "INFO:tensorflow:loss = 0.4183956, step = 2700 (35.251 sec)\n",
            "INFO:tensorflow:global_step/sec: 2.84033\n",
            "INFO:tensorflow:loss = 0.5012852, step = 2800 (35.204 sec)\n",
            "INFO:tensorflow:global_step/sec: 2.83964\n",
            "INFO:tensorflow:loss = 0.46985674, step = 2900 (35.216 sec)\n",
            "INFO:tensorflow:global_step/sec: 2.84072\n",
            "INFO:tensorflow:loss = 0.5636829, step = 3000 (35.200 sec)\n",
            "INFO:tensorflow:global_step/sec: 2.84141\n",
            "INFO:tensorflow:loss = 0.5075143, step = 3100 (35.194 sec)\n",
            "INFO:tensorflow:global_step/sec: 2.84344\n",
            "INFO:tensorflow:loss = 0.5303127, step = 3200 (35.171 sec)\n",
            "INFO:tensorflow:global_step/sec: 2.84083\n",
            "INFO:tensorflow:loss = 0.46967724, step = 3300 (35.200 sec)\n",
            "INFO:tensorflow:Calling checkpoint listeners before saving checkpoint 3391...\n",
            "INFO:tensorflow:Saving checkpoints for 3391 into /tmp/tmprtkbi2i2/model.ckpt.\n",
            "INFO:tensorflow:Calling checkpoint listeners after saving checkpoint 3391...\n",
            "INFO:tensorflow:global_step/sec: 2.64809\n",
            "INFO:tensorflow:loss = 0.5483773, step = 3400 (37.761 sec)\n",
            "INFO:tensorflow:global_step/sec: 2.79556\n",
            "INFO:tensorflow:loss = 0.5211438, step = 3500 (35.772 sec)\n",
            "INFO:tensorflow:global_step/sec: 2.84702\n",
            "INFO:tensorflow:loss = 0.5242936, step = 3600 (35.124 sec)\n",
            "INFO:tensorflow:global_step/sec: 2.84232\n",
            "INFO:tensorflow:loss = 0.43528628, step = 3700 (35.182 sec)\n",
            "INFO:tensorflow:global_step/sec: 2.8508\n",
            "INFO:tensorflow:loss = 0.49295378, step = 3800 (35.078 sec)\n",
            "INFO:tensorflow:global_step/sec: 2.86195\n",
            "INFO:tensorflow:loss = 0.49631813, step = 3900 (34.941 sec)\n",
            "INFO:tensorflow:global_step/sec: 2.86021\n",
            "INFO:tensorflow:loss = 0.4481876, step = 4000 (34.963 sec)\n",
            "INFO:tensorflow:global_step/sec: 2.86001\n",
            "INFO:tensorflow:loss = 0.4522845, step = 4100 (34.964 sec)\n",
            "INFO:tensorflow:global_step/sec: 2.8491\n",
            "INFO:tensorflow:loss = 0.4760545, step = 4200 (35.099 sec)\n",
            "INFO:tensorflow:global_step/sec: 2.8459\n",
            "INFO:tensorflow:loss = 0.4442917, step = 4300 (35.138 sec)\n",
            "INFO:tensorflow:global_step/sec: 2.82191\n",
            "INFO:tensorflow:loss = 0.45287114, step = 4400 (35.437 sec)\n",
            "INFO:tensorflow:global_step/sec: 2.84126\n",
            "INFO:tensorflow:loss = 0.39867225, step = 4500 (35.196 sec)\n",
            "INFO:tensorflow:global_step/sec: 2.83118\n",
            "INFO:tensorflow:loss = 0.40791693, step = 4600 (35.321 sec)\n",
            "INFO:tensorflow:global_step/sec: 2.83581\n",
            "INFO:tensorflow:loss = 0.45546094, step = 4700 (35.263 sec)\n",
            "INFO:tensorflow:global_step/sec: 2.85492\n",
            "INFO:tensorflow:loss = 0.4100375, step = 4800 (35.032 sec)\n",
            "INFO:tensorflow:global_step/sec: 2.8468\n",
            "INFO:tensorflow:loss = 0.38797057, step = 4900 (35.127 sec)\n",
            "INFO:tensorflow:global_step/sec: 2.84391\n",
            "INFO:tensorflow:loss = 0.4688309, step = 5000 (35.157 sec)\n",
            "INFO:tensorflow:Calling checkpoint listeners before saving checkpoint 5091...\n",
            "INFO:tensorflow:Saving checkpoints for 5091 into /tmp/tmprtkbi2i2/model.ckpt.\n",
            "INFO:tensorflow:Calling checkpoint listeners after saving checkpoint 5091...\n",
            "INFO:tensorflow:global_step/sec: 2.69531\n",
            "INFO:tensorflow:loss = 0.3539778, step = 5100 (37.101 sec)\n",
            "INFO:tensorflow:global_step/sec: 2.84506\n",
            "INFO:tensorflow:loss = 0.37760788, step = 5200 (35.150 sec)\n",
            "INFO:tensorflow:global_step/sec: 2.81876\n",
            "INFO:tensorflow:loss = 0.43482476, step = 5300 (35.475 sec)\n",
            "INFO:tensorflow:global_step/sec: 2.83562\n",
            "INFO:tensorflow:loss = 0.42590126, step = 5400 (35.270 sec)\n",
            "INFO:tensorflow:global_step/sec: 2.83816\n",
            "INFO:tensorflow:loss = 0.41337544, step = 5500 (35.230 sec)\n",
            "INFO:tensorflow:global_step/sec: 2.83984\n",
            "INFO:tensorflow:loss = 0.43809348, step = 5600 (35.213 sec)\n",
            "INFO:tensorflow:global_step/sec: 2.8082\n",
            "INFO:tensorflow:loss = 0.42560717, step = 5700 (35.611 sec)\n",
            "INFO:tensorflow:global_step/sec: 2.84008\n",
            "INFO:tensorflow:loss = 0.40070188, step = 5800 (35.210 sec)\n",
            "INFO:tensorflow:Calling checkpoint listeners before saving checkpoint 5860...\n",
            "INFO:tensorflow:Saving checkpoints for 5860 into /tmp/tmprtkbi2i2/model.ckpt.\n",
            "INFO:tensorflow:Calling checkpoint listeners after saving checkpoint 5860...\n",
            "INFO:tensorflow:Loss for final step: 0.49412417.\n"
          ],
          "name": "stdout"
        }
      ]
    },
    {
      "cell_type": "code",
      "metadata": {
        "id": "AAwnhzwK67Xk",
        "colab_type": "code",
        "colab": {
          "base_uri": "https://localhost:8080/",
          "height": 35
        },
        "outputId": "6bf296f1-452e-4516-aa7c-97f6f4b5073a"
      },
      "source": [
        "print(estimator_train_result)"
      ],
      "execution_count": 21,
      "outputs": [
        {
          "output_type": "stream",
          "text": [
            "<tensorflow_estimator.python.estimator.estimator.EstimatorV2 object at 0x7f0983425358>\n"
          ],
          "name": "stdout"
        }
      ]
    },
    {
      "cell_type": "code",
      "metadata": {
        "id": "eeUIx5cW6-QN",
        "colab_type": "code",
        "colab": {
          "base_uri": "https://localhost:8080/",
          "height": 297
        },
        "outputId": "ebc55aee-312e-464b-d4c4-c302b9271b03"
      },
      "source": [
        "estimator.evaluate(lambda:input_fn(test_images,test_labels,1,BATCH_SIZE))"
      ],
      "execution_count": 23,
      "outputs": [
        {
          "output_type": "stream",
          "text": [
            "INFO:tensorflow:Calling model_fn.\n",
            "WARNING:tensorflow:From /usr/local/lib/python3.6/dist-packages/tensorflow/python/keras/engine/training_v1.py:2048: Model.state_updates (from tensorflow.python.keras.engine.training) is deprecated and will be removed in a future version.\n",
            "Instructions for updating:\n",
            "This property should not be used in TensorFlow 2.0, as updates are applied automatically.\n",
            "INFO:tensorflow:Done calling model_fn.\n",
            "INFO:tensorflow:Starting evaluation at 2020-09-02T09:01:43Z\n",
            "INFO:tensorflow:Graph was finalized.\n",
            "INFO:tensorflow:Restoring parameters from /tmp/tmprtkbi2i2/model.ckpt-5860\n",
            "INFO:tensorflow:Running local_init_op.\n",
            "INFO:tensorflow:Done running local_init_op.\n",
            "INFO:tensorflow:Inference Time : 2.21307s\n",
            "INFO:tensorflow:Finished evaluation at 2020-09-02-09:01:45\n",
            "INFO:tensorflow:Saving dict for global step 5860: accuracy = 0.8446, global_step = 5860, loss = 0.43907553\n",
            "INFO:tensorflow:Saving 'checkpoint_path' summary for global step 5860: /tmp/tmprtkbi2i2/model.ckpt-5860\n"
          ],
          "name": "stdout"
        },
        {
          "output_type": "execute_result",
          "data": {
            "text/plain": [
              "{'accuracy': 0.8446, 'global_step': 5860, 'loss': 0.43907553}"
            ]
          },
          "metadata": {
            "tags": []
          },
          "execution_count": 23
        }
      ]
    },
    {
      "cell_type": "code",
      "metadata": {
        "id": "LwuEMfGd7NBK",
        "colab_type": "code",
        "colab": {}
      },
      "source": [
        ""
      ],
      "execution_count": null,
      "outputs": []
    }
  ]
}